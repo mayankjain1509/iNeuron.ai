{
  "nbformat": 4,
  "nbformat_minor": 0,
  "metadata": {
    "kernelspec": {
      "display_name": "Python 3",
      "language": "python",
      "name": "python3"
    },
    "language_info": {
      "codemirror_mode": {
        "name": "ipython",
        "version": 3
      },
      "file_extension": ".py",
      "mimetype": "text/x-python",
      "name": "python",
      "nbconvert_exporter": "python",
      "pygments_lexer": "ipython3",
      "version": "3.6.4"
    },
    "colab": {
      "name": "ineuron_Python_Assig_4.ipynb",
      "provenance": []
    }
  },
  "cells": [
    {
      "cell_type": "markdown",
      "metadata": {
        "id": "J50YPC7iRuY4"
      },
      "source": [
        "# ASSIGNMENT NO 4"
      ]
    },
    {
      "cell_type": "markdown",
      "metadata": {
        "id": "85GSEexpS4I4"
      },
      "source": [
        "## Question 1\n",
        "# Write a Python Program(with class concepts) to find the area of the triangle"
      ]
    },
    {
      "cell_type": "code",
      "metadata": {
        "id": "LCZtTni3RubJ",
        "outputId": "97e05819-8f4c-491b-b9c2-fa49c33a879a",
        "colab": {
          "base_uri": "https://localhost:8080/",
          "height": 85
        }
      },
      "source": [
        "import math\n",
        "class Triangle:\n",
        "    def __init__(self,side1,side2,side3):\n",
        "        self.side1=side1\n",
        "        self.side2=side2\n",
        "        self.side3=side3\n",
        "    \n",
        "    def area(self):\n",
        "        s=(self.side1+self.side2+self.side3)/2\n",
        "        return math.sqrt((s-self.side1)*(s-self.side2)*(s-self.side3))\n",
        "\n",
        "a=float(input('Enter the value of side 1: '))\n",
        "b=float(input('Enter the value of side 2: '))\n",
        "c=float(input('Enter the value of side 3: '))\n",
        "print('Area of the triangle',Triangle(a,b,c).area())"
      ],
      "execution_count": 11,
      "outputs": [
        {
          "output_type": "stream",
          "text": [
            "Enter the value of side 1: 8\n",
            "Enter the value of side 2: 9\n",
            "Enter the value of side 3: 4\n",
            "Area of the triangle 4.937104414532874\n"
          ],
          "name": "stdout"
        }
      ]
    },
    {
      "cell_type": "markdown",
      "metadata": {
        "id": "thukMg3oSyv5"
      },
      "source": [
        "## Question No 2\n",
        "# Write a function filter_long_words() that takes a list of words and an integer n and returns the list of words that are longer than n."
      ]
    },
    {
      "cell_type": "code",
      "metadata": {
        "id": "5bXm4ZZ3Rubh"
      },
      "source": [
        "def filter_large_string(string,integer):\n",
        "    wordlist=[]\n",
        "    for i in string.split():\n",
        "        if len(i)>integer:\n",
        "            wordlist.append(i)\n",
        "    return wordlist"
      ],
      "execution_count": 3,
      "outputs": []
    },
    {
      "cell_type": "code",
      "metadata": {
        "id": "PiVwBOXfRubo",
        "outputId": "15dcf49a-1e56-473b-ff1d-37fed71621f6",
        "colab": {
          "base_uri": "https://localhost:8080/",
          "height": 34
        }
      },
      "source": [
        "filter_large_string('Mayank jain works hard on python programming',5)"
      ],
      "execution_count": 4,
      "outputs": [
        {
          "output_type": "execute_result",
          "data": {
            "text/plain": [
              "['Mayank', 'python', 'programming']"
            ]
          },
          "metadata": {
            "tags": []
          },
          "execution_count": 4
        }
      ]
    },
    {
      "cell_type": "markdown",
      "metadata": {
        "id": "iMpWpcmeTxSP"
      },
      "source": [
        "\n",
        "## Question 3\n",
        "# Write a Python program using function concept that maps list of words into a list of integers representing the lengths of the corresponding words.\n"
      ]
    },
    {
      "cell_type": "code",
      "metadata": {
        "id": "WBc5lqgvRub0",
        "outputId": "b0b101e6-6b4c-44bb-b4e0-d97fe990747b",
        "colab": {
          "base_uri": "https://localhost:8080/",
          "height": 34
        }
      },
      "source": [
        "a = list(map(lambda x:len(x),['ab','cde','erty']))\n",
        "a"
      ],
      "execution_count": 5,
      "outputs": [
        {
          "output_type": "execute_result",
          "data": {
            "text/plain": [
              "[2, 3, 4]"
            ]
          },
          "metadata": {
            "tags": []
          },
          "execution_count": 5
        }
      ]
    },
    {
      "cell_type": "code",
      "metadata": {
        "id": "LI8VnrnTRub5",
        "outputId": "9981f6bc-d2c3-4257-9201-d60e5fc91bb2",
        "colab": {
          "base_uri": "https://localhost:8080/",
          "height": 34
        }
      },
      "source": [
        "#Other Method \n",
        "a = [len(i) for i in ['ab','cde','erty']]\n",
        "a"
      ],
      "execution_count": 6,
      "outputs": [
        {
          "output_type": "execute_result",
          "data": {
            "text/plain": [
              "[2, 3, 4]"
            ]
          },
          "metadata": {
            "tags": []
          },
          "execution_count": 6
        }
      ]
    },
    {
      "cell_type": "markdown",
      "metadata": {
        "id": "Cu7b5g4CUQDb"
      },
      "source": [
        "## Question 4\n",
        "# Write a Python function which takes a character (i.e. a string of length 1) and returns True if it is a vowel, False otherwise"
      ]
    },
    {
      "cell_type": "code",
      "metadata": {
        "id": "r7v5aHjjRucM",
        "outputId": "475600b4-9a37-4a80-90bf-74ad4224e9c9",
        "colab": {
          "base_uri": "https://localhost:8080/",
          "height": 34
        }
      },
      "source": [
        "x= str(input(\"input the character:  \"))"
      ],
      "execution_count": 7,
      "outputs": [
        {
          "output_type": "stream",
          "text": [
            "input the character:  j\n"
          ],
          "name": "stdout"
        }
      ]
    },
    {
      "cell_type": "code",
      "metadata": {
        "id": "_KkMyydLRucV"
      },
      "source": [
        "def vowel_or_not(x):\n",
        "    vowels=['a','e','i','o','u']\n",
        "    if x in vowels:\n",
        "        return True\n",
        "    return False\n"
      ],
      "execution_count": 8,
      "outputs": []
    },
    {
      "cell_type": "code",
      "metadata": {
        "id": "xWsxehsdRucc",
        "outputId": "1c4f2952-5f02-46c7-b58e-c97a7627d219",
        "colab": {
          "base_uri": "https://localhost:8080/",
          "height": 34
        }
      },
      "source": [
        "vowel_or_not(x)"
      ],
      "execution_count": 9,
      "outputs": [
        {
          "output_type": "execute_result",
          "data": {
            "text/plain": [
              "False"
            ]
          },
          "metadata": {
            "tags": []
          },
          "execution_count": 9
        }
      ]
    }
  ]
}