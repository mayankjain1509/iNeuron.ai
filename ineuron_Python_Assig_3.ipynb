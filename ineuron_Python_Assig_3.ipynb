{
  "nbformat": 4,
  "nbformat_minor": 0,
  "metadata": {
    "colab": {
      "name": "ineuron_Python_Assig_3.ipynb",
      "provenance": []
    },
    "kernelspec": {
      "name": "python3",
      "display_name": "Python 3"
    }
  },
  "cells": [
    {
      "cell_type": "markdown",
      "metadata": {
        "id": "JtC2Jf-O8x9J"
      },
      "source": [
        "##Question No 1 \n",
        "\n",
        "# Write a Python Program to implement your own myreduce() function which works exactly like Python's built-in function reduce()"
      ]
    },
    {
      "cell_type": "code",
      "metadata": {
        "id": "EBgTKfGK9Ah7",
        "outputId": "59ab1ad3-1f21-4d9d-bc04-0ad097cf8274",
        "colab": {
          "base_uri": "https://localhost:8080/",
          "height": 34
        }
      },
      "source": [
        "import numpy as np\n",
        "import pandas as pd\n",
        "def myreduce(y):\n",
        "    a = 0\n",
        "    for i in range(y):\n",
        "        a = a+i\n",
        "    print(a)\n",
        "  \n",
        "myreduce(5)"
      ],
      "execution_count": 8,
      "outputs": [
        {
          "output_type": "stream",
          "text": [
            "10\n"
          ],
          "name": "stdout"
        }
      ]
    },
    {
      "cell_type": "markdown",
      "metadata": {
        "id": "lOJRJKUy9HAC"
      },
      "source": [
        "\n",
        "\n",
        "##Question No 2\n",
        "#  Write a Python program to implement your own myfilter() function which works exactly like Python's built-in function filter()"
      ]
    },
    {
      "cell_type": "code",
      "metadata": {
        "id": "Uvfjb_Ak9XGk",
        "outputId": "50f4e6df-d966-4a88-874a-20d6dd952c14",
        "colab": {
          "base_uri": "https://localhost:8080/",
          "height": 34
        }
      },
      "source": [
        "def myfilter(s):\n",
        "    x = []\n",
        "    for i in s:\n",
        "        if i>2:\n",
        "            x.append(i)\n",
        "    return x\n",
        "\n",
        "l=[1,2,3,4,5,6]\n",
        "myfilter(l)"
      ],
      "execution_count": 9,
      "outputs": [
        {
          "output_type": "execute_result",
          "data": {
            "text/plain": [
              "[3, 4, 5, 6]"
            ]
          },
          "metadata": {
            "tags": []
          },
          "execution_count": 9
        }
      ]
    },
    {
      "cell_type": "code",
      "metadata": {
        "id": "VUGA76U8OPeP"
      },
      "source": [
        ""
      ],
      "execution_count": null,
      "outputs": []
    },
    {
      "cell_type": "markdown",
      "metadata": {
        "id": "l87YVe7nOT6B"
      },
      "source": [
        "## Question No 3\n",
        "# List COMPREHENSIONS"
      ]
    },
    {
      "cell_type": "code",
      "metadata": {
        "id": "Cxl-PDVvOfC_",
        "outputId": "52fb188d-0358-43cd-8078-82f24cee478b",
        "colab": {
          "base_uri": "https://localhost:8080/",
          "height": 34
        }
      },
      "source": [
        "s=\"iNeuron.ai\"\n",
        "[i for i in 'iNeuron.ai']"
      ],
      "execution_count": 10,
      "outputs": [
        {
          "output_type": "execute_result",
          "data": {
            "text/plain": [
              "['i', 'N', 'e', 'u', 'r', 'o', 'n', '.', 'a', 'i']"
            ]
          },
          "metadata": {
            "tags": []
          },
          "execution_count": 10
        }
      ]
    },
    {
      "cell_type": "code",
      "metadata": {
        "id": "6NcCFwueOpQa",
        "outputId": "956c06a8-2477-4788-8caa-3ba9fde9f081",
        "colab": {
          "base_uri": "https://localhost:8080/",
          "height": 34
        }
      },
      "source": [
        "[i*j for j in 'xyz' for i in range(1,5)]"
      ],
      "execution_count": 11,
      "outputs": [
        {
          "output_type": "execute_result",
          "data": {
            "text/plain": [
              "['x', 'xx', 'xxx', 'xxxx', 'y', 'yy', 'yyy', 'yyyy', 'z', 'zz', 'zzz', 'zzzz']"
            ]
          },
          "metadata": {
            "tags": []
          },
          "execution_count": 11
        }
      ]
    },
    {
      "cell_type": "code",
      "metadata": {
        "id": "5W9ELPoCOtwh",
        "outputId": "b6358b06-94d1-496c-e58d-c9c5201392b4",
        "colab": {
          "base_uri": "https://localhost:8080/",
          "height": 34
        }
      },
      "source": [
        "\n",
        "[i*j for j in range(1,5) for i in 'xyz']"
      ],
      "execution_count": 12,
      "outputs": [
        {
          "output_type": "execute_result",
          "data": {
            "text/plain": [
              "['x', 'y', 'z', 'xx', 'yy', 'zz', 'xxx', 'yyy', 'zzz', 'xxxx', 'yyyy', 'zzzz']"
            ]
          },
          "metadata": {
            "tags": []
          },
          "execution_count": 12
        }
      ]
    },
    {
      "cell_type": "code",
      "metadata": {
        "id": "dpIUPIgRQiED",
        "outputId": "88ea3501-f9b3-4017-a8aa-bb3dbaba88a3",
        "colab": {
          "base_uri": "https://localhost:8080/",
          "height": 34
        }
      },
      "source": [
        "[[i+j] for j in range(0,3) for i in range(2,5)]\n"
      ],
      "execution_count": 25,
      "outputs": [
        {
          "output_type": "execute_result",
          "data": {
            "text/plain": [
              "[[2], [3], [4], [3], [4], [5], [4], [5], [6]]"
            ]
          },
          "metadata": {
            "tags": []
          },
          "execution_count": 25
        }
      ]
    },
    {
      "cell_type": "code",
      "metadata": {
        "id": "ETKpN_mWQoj_",
        "outputId": "e616bab8-6f7a-44f6-cd7d-031b86638c68",
        "colab": {
          "base_uri": "https://localhost:8080/",
          "height": 34
        }
      },
      "source": [
        "[[i+j for j in range(0,4)] for i in range(2,6)]\n"
      ],
      "execution_count": 26,
      "outputs": [
        {
          "output_type": "execute_result",
          "data": {
            "text/plain": [
              "[[2, 3, 4, 5], [3, 4, 5, 6], [4, 5, 6, 7], [5, 6, 7, 8]]"
            ]
          },
          "metadata": {
            "tags": []
          },
          "execution_count": 26
        }
      ]
    },
    {
      "cell_type": "code",
      "metadata": {
        "id": "ZgsmwyKQPB22",
        "outputId": "ab1daf61-1532-4a33-f35f-e35be5dd76a7",
        "colab": {
          "base_uri": "https://localhost:8080/",
          "height": 34
        }
      },
      "source": [
        "[[(i,j) for i in range(1,4)] for j in range(1,4)]"
      ],
      "execution_count": 27,
      "outputs": [
        {
          "output_type": "execute_result",
          "data": {
            "text/plain": [
              "[[(1, 1), (2, 1), (3, 1)], [(1, 2), (2, 2), (3, 2)], [(1, 3), (2, 3), (3, 3)]]"
            ]
          },
          "metadata": {
            "tags": []
          },
          "execution_count": 27
        }
      ]
    }
  ]
}