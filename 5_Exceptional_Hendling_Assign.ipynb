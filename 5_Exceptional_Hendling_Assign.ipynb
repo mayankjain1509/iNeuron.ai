{
  "nbformat": 4,
  "nbformat_minor": 0,
  "metadata": {
    "colab": {
      "name": "5_Exceptional_Hendling_Assign.ipynb",
      "provenance": []
    },
    "kernelspec": {
      "name": "python3",
      "display_name": "Python 3"
    }
  },
  "cells": [
    {
      "cell_type": "markdown",
      "metadata": {
        "id": "DGRcBP006XgM"
      },
      "source": [
        "Question 1 :\n",
        "Write a function to compute 5/0 and use try/except to catch the exceptions."
      ]
    },
    {
      "cell_type": "code",
      "metadata": {
        "id": "_l5bQU9i6bSu"
      },
      "source": [
        "def divide_function(x,y):\n",
        "    \n",
        "    try:\n",
        "        z = x/y\n",
        "        print(\"Number is valid\")        \n",
        "        \n",
        "    except:\n",
        "        y=0\n",
        "        print(\"Denominator value is zero\")"
      ],
      "execution_count": 1,
      "outputs": []
    },
    {
      "cell_type": "code",
      "metadata": {
        "id": "lwqhiA-v6fHJ",
        "outputId": "ebe12c6d-774f-41bf-9620-65e0eafd6ef3",
        "colab": {
          "base_uri": "https://localhost:8080/",
          "height": 34
        }
      },
      "source": [
        "divide_function(5,0)"
      ],
      "execution_count": 2,
      "outputs": [
        {
          "output_type": "stream",
          "text": [
            "Denominator value is zero\n"
          ],
          "name": "stdout"
        }
      ]
    },
    {
      "cell_type": "markdown",
      "metadata": {
        "id": "B26O-bXT6rYA"
      },
      "source": [
        "Question 2:\n",
        "# Implement a Python program to generate all sentences where subject is in [\"Americans\",\"Indians\"] and verb is in [\"Play\", \"watch\"] and the object is in [\"Baseball\",\"cricket\"]"
      ]
    },
    {
      "cell_type": "code",
      "metadata": {
        "id": "FnhSoZjO6wJk",
        "outputId": "17e87144-bf04-4343-b20b-3ecf267f830f",
        "colab": {
          "base_uri": "https://localhost:8080/",
          "height": 153
        }
      },
      "source": [
        "subject = [\" American\",\" Indians\"]\n",
        "verbs = [\" play\",\" watch\"]\n",
        "objects = [\" Baseball.\",\" Cricket.\"]\n",
        "\n",
        "x = [i+j+k for i in subject for j in verbs for k in objects]\n",
        "\n",
        "for y in x:\n",
        "    print(y)"
      ],
      "execution_count": 3,
      "outputs": [
        {
          "output_type": "stream",
          "text": [
            " American play Baseball.\n",
            " American play Cricket.\n",
            " American watch Baseball.\n",
            " American watch Cricket.\n",
            " Indians play Baseball.\n",
            " Indians play Cricket.\n",
            " Indians watch Baseball.\n",
            " Indians watch Cricket.\n"
          ],
          "name": "stdout"
        }
      ]
    },
    {
      "cell_type": "code",
      "metadata": {
        "id": "K7ChApsM67Xm",
        "outputId": "fc874634-70b0-42ba-b7fb-238304aa3ff1",
        "colab": {
          "base_uri": "https://localhost:8080/",
          "height": 153
        }
      },
      "source": [
        "# Other Method\n",
        "\n",
        "subject = [\" American\",\" Indians\"]\n",
        "verbs = [\" play\",\" watch\"]\n",
        "objects = [\" Baseball.\",\" Cricket.\"]\n",
        "\n",
        "x = [''.join([i,j,k]) for i in subject for j in verbs for k in objects]\n",
        "\n",
        "for y in x:\n",
        "    print(y)"
      ],
      "execution_count": 4,
      "outputs": [
        {
          "output_type": "stream",
          "text": [
            " American play Baseball.\n",
            " American play Cricket.\n",
            " American watch Baseball.\n",
            " American watch Cricket.\n",
            " Indians play Baseball.\n",
            " Indians play Cricket.\n",
            " Indians watch Baseball.\n",
            " Indians watch Cricket.\n"
          ],
          "name": "stdout"
        }
      ]
    }
  ]
}